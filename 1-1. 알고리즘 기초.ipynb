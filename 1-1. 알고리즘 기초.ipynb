{
 "cells": [
  {
   "cell_type": "markdown",
   "id": "e637477d",
   "metadata": {},
   "source": [
    "# Do it! 자료구조와 함께 배우는 알고리즘 입문"
   ]
  },
  {
   "cell_type": "markdown",
   "id": "7665215c",
   "metadata": {},
   "source": [
    "# 01. 알고리즘 기초\n",
    "## 01-1. 알고리즘이란? "
   ]
  },
  {
   "cell_type": "markdown",
   "id": "1aebcd5d",
   "metadata": {},
   "source": [
    "### 세 정수의 최댓값 구하기"
   ]
  },
  {
   "cell_type": "code",
   "execution_count": 3,
   "id": "e7c38c73",
   "metadata": {},
   "outputs": [
    {
     "name": "stdout",
     "output_type": "stream",
     "text": [
      "정수 a 값을 입력하시오 : 99\n",
      "정수 b 값을 입력하시오 : 35\n",
      "정수 c 값을 입력하시오 : 421\n"
     ]
    },
    {
     "ename": "TypeError",
     "evalue": "can only concatenate str (not \"int\") to str",
     "output_type": "error",
     "traceback": [
      "\u001b[1;31m---------------------------------------------------------------------------\u001b[0m",
      "\u001b[1;31mTypeError\u001b[0m                                 Traceback (most recent call last)",
      "\u001b[1;32m~\\AppData\\Local\\Temp/ipykernel_2804/2631265401.py\u001b[0m in \u001b[0;36m<module>\u001b[1;34m\u001b[0m\n\u001b[0;32m     12\u001b[0m     \u001b[0mmax_num\u001b[0m \u001b[1;33m=\u001b[0m \u001b[0mc\u001b[0m\u001b[1;33m;\u001b[0m\u001b[1;33m\u001b[0m\u001b[1;33m\u001b[0m\u001b[0m\n\u001b[0;32m     13\u001b[0m \u001b[1;33m\u001b[0m\u001b[0m\n\u001b[1;32m---> 14\u001b[1;33m \u001b[0mprint\u001b[0m\u001b[1;33m(\u001b[0m\u001b[1;34m'최댓값은 '\u001b[0m\u001b[1;33m+\u001b[0m \u001b[0mmax_num\u001b[0m \u001b[1;33m+\u001b[0m\u001b[1;34m'입니다'\u001b[0m\u001b[1;33m)\u001b[0m  \u001b[1;31m# str(문자열)와 int는 + 로 연결할 수 없다.\u001b[0m\u001b[1;33m\u001b[0m\u001b[1;33m\u001b[0m\u001b[0m\n\u001b[0m",
      "\u001b[1;31mTypeError\u001b[0m: can only concatenate str (not \"int\") to str"
     ]
    }
   ],
   "source": [
    "# 실습 1-1.입력받은 세 정수의 최댓값 구하기\n",
    "\n",
    "a = int(input('정수 a 값을 입력하시오 : '))  # input()함수로 입력값 받을 수 있음. 입력받은 데이터의 자료형은 문자열이므로 int 통해 형변환.\n",
    "b = int(input('정수 b 값을 입력하시오 : '))\n",
    "c = int(input('정수 c 값을 입력하시오 : '))\n",
    "\n",
    "max_num = a\n",
    "\n",
    "if b > max_num:\n",
    "    max_num = b\n",
    "if c > max_num:\n",
    "    max_num = c;\n",
    "\n",
    "print('최댓값은 '+ max_num +'입니다')  # str(문자열)와 int는 + 로 연결할 수 없다."
   ]
  },
  {
   "cell_type": "code",
   "execution_count": 8,
   "id": "60c9a81e",
   "metadata": {},
   "outputs": [
    {
     "name": "stdout",
     "output_type": "stream",
     "text": [
      "정수 a 값을 입력하시오 : 99\n",
      "정수 b 값을 입력하시오 : 35\n",
      "정수 c 값을 입력하시오 : 421\n",
      "최댓값은 421입니다.\n"
     ]
    }
   ],
   "source": [
    "# 실습 1-1. 입력받은 세 정수의 최댓값 구하기\n",
    "\n",
    "a = int(input('정수 a 값을 입력하시오 : '))\n",
    "b = int(input('정수 b 값을 입력하시오 : '))\n",
    "c = int(input('정수 c 값을 입력하시오 : '))\n",
    "\n",
    "max_num = a\n",
    "\n",
    "if b > max_num:\n",
    "    max_num = b\n",
    "if c > max_num:\n",
    "    max_num = c;\n",
    "\n",
    "print(f'최댓값은 {max_num}입니다.')  # print 함수 내에서 문자열과 정수형 함수 연결해 함께 출력하려면 포맷 문자열 리터럴 사용."
   ]
  },
  {
   "cell_type": "code",
   "execution_count": 9,
   "id": "a3a1f5b3",
   "metadata": {},
   "outputs": [
    {
     "name": "stdout",
     "output_type": "stream",
     "text": [
      "이름을 입력하시오 : \n",
      "양혜림\n",
      "안녕하세요 양혜림님!\n",
      "안녕하세요 양혜림님!\n"
     ]
    }
   ],
   "source": [
    "# 보충 수업 1-1. 문자열과 숫자 입력받기\n",
    "\n",
    "print('이름을 입력하시오 ')\n",
    "name = input()  # 왜 input()을 통해 입력된 데이터는 출력된다. 파이썬은 개행이 기본이라 위 print문 아랫줄에 출력됨.\n",
    "print('안녕하세요 '+ name + '님!')  # print 함수 내에서 str형은 + 로 연결해 출력 가능.\n",
    "print(f'안녕하세요 {name}님!')  # 포맷 문자열 리터럴 사용해도 결과는 같다."
   ]
  },
  {
   "cell_type": "code",
   "execution_count": 12,
   "id": "9de77048",
   "metadata": {},
   "outputs": [
    {
     "name": "stdout",
     "output_type": "stream",
     "text": [
      "이름을 입력하시오 : 햄\n",
      "안녕하세요 햄님!\n",
      "안녕하세요 햄님!\n"
     ]
    }
   ],
   "source": [
    "# 보충 수업 1-1. 문자열과 숫자 입력받기\n",
    "\n",
    "print('이름을 입력하시오 : ', end='')  # print 함수 안에 end='' 써줘야 개행 안됨.\n",
    "name = input() \n",
    "print('안녕하세요 '+ name + '님!')  # print 함수 내에서 str형은 + 로 연결해 출력 가능.\n",
    "print(f'안녕하세요 {name}님!')  # 포맷 문자열 리터럴 사용해도 결과는 같다."
   ]
  },
  {
   "cell_type": "code",
   "execution_count": 4,
   "id": "42e60092",
   "metadata": {},
   "outputs": [
    {
     "name": "stdout",
     "output_type": "stream",
     "text": [
      "max_num(3,2,2) = 3\n"
     ]
    },
    {
     "ename": "TypeError",
     "evalue": "can only concatenate str (not \"int\") to str",
     "output_type": "error",
     "traceback": [
      "\u001b[1;31m---------------------------------------------------------------------------\u001b[0m",
      "\u001b[1;31mTypeError\u001b[0m                                 Traceback (most recent call last)",
      "\u001b[1;32m~\\AppData\\Local\\Temp/ipykernel_2272/1331448857.py\u001b[0m in \u001b[0;36m<module>\u001b[1;34m\u001b[0m\n\u001b[0;32m     10\u001b[0m \u001b[1;33m\u001b[0m\u001b[0m\n\u001b[0;32m     11\u001b[0m \u001b[0mprint\u001b[0m\u001b[1;33m(\u001b[0m\u001b[1;34mf'max_num(3,2,2) = {max_num(3,2,2)}'\u001b[0m\u001b[1;33m)\u001b[0m\u001b[1;33m\u001b[0m\u001b[1;33m\u001b[0m\u001b[0m\n\u001b[1;32m---> 12\u001b[1;33m \u001b[0mprint\u001b[0m\u001b[1;33m(\u001b[0m\u001b[1;34m'max_num(1,2,3) = '\u001b[0m \u001b[1;33m+\u001b[0m \u001b[0mmax_num\u001b[0m\u001b[1;33m(\u001b[0m\u001b[1;36m1\u001b[0m\u001b[1;33m,\u001b[0m\u001b[1;36m2\u001b[0m\u001b[1;33m,\u001b[0m\u001b[1;36m3\u001b[0m\u001b[1;33m)\u001b[0m\u001b[1;33m)\u001b[0m  \u001b[1;31m# print 함수 내에서 int와 str +로 연결 불가. 포맷 문자열 리터럴 사용.\u001b[0m\u001b[1;33m\u001b[0m\u001b[1;33m\u001b[0m\u001b[0m\n\u001b[0m",
      "\u001b[1;31mTypeError\u001b[0m: can only concatenate str (not \"int\") to str"
     ]
    }
   ],
   "source": [
    "# 실습 1-2. 세 정수의 최댓값 구하기\n",
    "\n",
    "def max_num(a,b,c):  # 매개변수 a,b,c에 숫자 입력받아 최대값 반환.\n",
    "    maximum = a\n",
    "    if b > maximum:\n",
    "        maximum = b\n",
    "    if c > maximum:\n",
    "        maximum = c\n",
    "    return maximum  # 함수 내부에서 처리한 값 반환할 땐 return문 사용.\n",
    "\n",
    "print(f'max_num(3,2,2) = {max_num(3,2,2)}')\n",
    "print('max_num(1,2,3) = ' + max_num(1,2,3))  # print 함수 내에서 int와 str +로 연결 불가. 포맷 문자열 리터럴 사용."
   ]
  },
  {
   "cell_type": "markdown",
   "id": "746ffbe1",
   "metadata": {},
   "source": [
    "#### 보충 수업 1-2. 복합문의 구조\n",
    "##### 복합문이란 하나 또는 그 이상의 절로 구성되는 것. 헤더(header)와 스위트(suite)로 구성된다.\n",
    "\n",
    "if a < b:   # 헤더(header). if 나 while과 같은 키워드로 시작해 콜론으로 끝나는 부분 <br>\n",
    "    min_num = a  # 스위트(Suite). 헤더와 한 세트로 따라다니는 실행문 <br>\n",
    "\n",
    "#### 보충수업 1-4. 복합문 작성 규칙\n",
    "\n",
    "##### 스위트가 단순문이라면 => 헤더와 같은 행에 위치 가능.\n",
    "if a < b : min_num = a  # 단순문 1개 <br>\n",
    "if a < b : min_num = a; max_num = b  # 단순문 2개 (마지막 단순문에 세미콜론 붙이는건 자유.) <br>\n",
    "if a < b : min_num = a; max_num = b; <br>\n",
    "    \n",
    "##### 스위트가 복합문이라면 => 헤더와 같은 행에 포함 불가.\n",
    "if a < b : if c < d : x = u 이렇게 작성시 오류 발생. <br>\n",
    "if a < b :  # 헤더 <br>\n",
    "    if c< d: x=u  # 스위트."
   ]
  },
  {
   "cell_type": "code",
   "execution_count": 8,
   "id": "f99dde14",
   "metadata": {},
   "outputs": [],
   "source": [
    "# 보충 수업 1-5. 세 정수의 대소 관계와 중앙값.\n",
    "# 중앙값(median)이란 주어진 값을 크기 순서대로 정렬했을 때 가장 중앙에 위치하는 값. 중앙값 != 평균값(mean)\n",
    "\n",
    "def med_num(a,b,c):\n",
    "    if "
   ]
  }
 ],
 "metadata": {
  "kernelspec": {
   "display_name": "Python 3 (ipykernel)",
   "language": "python",
   "name": "python3"
  },
  "language_info": {
   "codemirror_mode": {
    "name": "ipython",
    "version": 3
   },
   "file_extension": ".py",
   "mimetype": "text/x-python",
   "name": "python",
   "nbconvert_exporter": "python",
   "pygments_lexer": "ipython3",
   "version": "3.9.7"
  }
 },
 "nbformat": 4,
 "nbformat_minor": 5
}
